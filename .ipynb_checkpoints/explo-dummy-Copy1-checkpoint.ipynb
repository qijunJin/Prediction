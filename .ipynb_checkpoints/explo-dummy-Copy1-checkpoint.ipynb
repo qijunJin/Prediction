{
 "cells": [
  {
   "cell_type": "markdown",
   "metadata": {},
   "source": [
    "<img src=\"images/logo_combi.jpg\" width=500>"
   ]
  },
  {
   "cell_type": "code",
   "execution_count": 1,
   "metadata": {},
   "outputs": [],
   "source": [
    "import pandas as pd\n",
    "import datetime as dt\n",
    "import numpy as np"
   ]
  },
  {
   "cell_type": "code",
   "execution_count": 2,
   "metadata": {},
   "outputs": [],
   "source": [
    "import matplotlib.pyplot as plt\n",
    "import seaborn as sns\n",
    "\n",
    "%matplotlib inline\n",
    "sns.set_style('darkgrid')"
   ]
  },
  {
   "cell_type": "markdown",
   "metadata": {},
   "source": [
    "# Is it possible to predict customer behaviour in retail shops?\n",
    "\n",
    "Generating customer loyalty and, more specifically, customer retention, is one of the fundamental ways by which businesses increase their profitability. \n",
    "\n",
    "Customers are nowadays more unfaithful than ever. In e-commerce customers are usually registered users of a website and their (our) behaviour is monitorized closely. In physical, brick-and-mortar retail shops customers are retained most often through the use of _fidelity cards_.\n",
    "\n",
    "Data Science has much to say in providing predictive models for customer behaviour that help businesses increase their profitability. _Customer churn_ prediction is a clear example of such an application, as it allows to center marketing actions around customers with highest defection probability.\n",
    "\n",
    "What we propose today goes very much in the direction of being able to offer individualized marketing actions targeted at each specific customer. The main question is: given a customer's shopping history at a shop, can we predict the date of their next purchase and the amount they will spend?"
   ]
  },
  {
   "cell_type": "markdown",
   "metadata": {},
   "source": [
    "# Description of the customer transaction datasets\n",
    "\n",
    "## Features dataset\n",
    "\n",
    "The dataset `X` contains anonymized basket data from transactions carried out by individual identified customers of a series of shops belonging to a series of chains of retail shops specialised in groceries in the province of Barcelona.\n",
    "\n",
    "Transactions occur between dates `2016-01-01` and `2018-01-11`.\n",
    "\n",
    "The available features are as follows:\n",
    "\n",
    "### Transaction-specific features: \n",
    "\n",
    "These are common to all rows in the same transaction.\n",
    "\n",
    "- **transaction**: identifies rows of the same purchase\n",
    "- **customer**: customer identifier. Identifies customers across shops of the same chain\n",
    "- **chain**: chain identifier\n",
    "- **shop**:  shop identifier\n",
    "- **seller**: seller identifier. Identifies a seller across shops of the same chain\n",
    "- **timestamp**: timestamp identifying the moment in which the transaction was checked out\n",
    "\n",
    "\n",
    "### Row-specific features:\n",
    "\n",
    "These apply to individual products (ie: rows) available in the transaction.\n",
    "\n",
    "- **product**: product identifier. Identifies a product across shops of the same chain\n",
    "- **quantity**: amount of product bought\n",
    "- **billing**: money paid (in €) for the specified amount of product\n",
    "\n",
    "The data types are as specified below."
   ]
  },
  {
   "cell_type": "code",
   "execution_count": 3,
   "metadata": {},
   "outputs": [],
   "source": [
    "dtype_X = {\n",
    "    'transaction': np.int64,\n",
    "    'customer': str,\n",
    "    'chain': str,\n",
    "    'shop': str,\n",
    "    'seller': str,\n",
    "    # 'timestamp': timestamp,\n",
    "    'product': str,\n",
    "    'quantity': np.float64,\n",
    "    'billing': np.float64,\n",
    "}"
   ]
  },
  {
   "cell_type": "code",
   "execution_count": 4,
   "metadata": {},
   "outputs": [],
   "source": [
    "X = pd.read_csv('datasets/X.csv', dtype=dtype_X, parse_dates=['timestamp'])"
   ]
  },
  {
   "cell_type": "markdown",
   "metadata": {},
   "source": [
    "By querying for a fixed `'transaction'`, we get all rows related to it. For example, `transaction = 818445` contains the following rows:"
   ]
  },
  {
   "cell_type": "code",
   "execution_count": 5,
   "metadata": {},
   "outputs": [
    {
     "data": {
      "text/html": [
       "<div>\n",
       "<style scoped>\n",
       "    .dataframe tbody tr th:only-of-type {\n",
       "        vertical-align: middle;\n",
       "    }\n",
       "\n",
       "    .dataframe tbody tr th {\n",
       "        vertical-align: top;\n",
       "    }\n",
       "\n",
       "    .dataframe thead th {\n",
       "        text-align: right;\n",
       "    }\n",
       "</style>\n",
       "<table border=\"1\" class=\"dataframe\">\n",
       "  <thead>\n",
       "    <tr style=\"text-align: right;\">\n",
       "      <th></th>\n",
       "      <th>transaction</th>\n",
       "      <th>timestamp</th>\n",
       "      <th>chain</th>\n",
       "      <th>shop</th>\n",
       "      <th>customer</th>\n",
       "      <th>seller</th>\n",
       "      <th>product</th>\n",
       "      <th>quantity</th>\n",
       "      <th>billing</th>\n",
       "    </tr>\n",
       "  </thead>\n",
       "  <tbody>\n",
       "    <tr>\n",
       "      <th>7</th>\n",
       "      <td>818445</td>\n",
       "      <td>2016-01-02 07:22:31</td>\n",
       "      <td>w6</td>\n",
       "      <td>nRq</td>\n",
       "      <td>uhEla</td>\n",
       "      <td>SAr</td>\n",
       "      <td>QlLha</td>\n",
       "      <td>0.160</td>\n",
       "      <td>3.17</td>\n",
       "    </tr>\n",
       "    <tr>\n",
       "      <th>8</th>\n",
       "      <td>818445</td>\n",
       "      <td>2016-01-02 07:22:31</td>\n",
       "      <td>w6</td>\n",
       "      <td>nRq</td>\n",
       "      <td>uhEla</td>\n",
       "      <td>SAr</td>\n",
       "      <td>xDTzd</td>\n",
       "      <td>0.165</td>\n",
       "      <td>3.27</td>\n",
       "    </tr>\n",
       "    <tr>\n",
       "      <th>9</th>\n",
       "      <td>818445</td>\n",
       "      <td>2016-01-02 07:22:31</td>\n",
       "      <td>w6</td>\n",
       "      <td>nRq</td>\n",
       "      <td>uhEla</td>\n",
       "      <td>SAr</td>\n",
       "      <td>45p35</td>\n",
       "      <td>1.000</td>\n",
       "      <td>2.75</td>\n",
       "    </tr>\n",
       "    <tr>\n",
       "      <th>10</th>\n",
       "      <td>818445</td>\n",
       "      <td>2016-01-02 07:22:31</td>\n",
       "      <td>w6</td>\n",
       "      <td>nRq</td>\n",
       "      <td>uhEla</td>\n",
       "      <td>SAr</td>\n",
       "      <td>eo~UP</td>\n",
       "      <td>0.180</td>\n",
       "      <td>3.56</td>\n",
       "    </tr>\n",
       "    <tr>\n",
       "      <th>11</th>\n",
       "      <td>818445</td>\n",
       "      <td>2016-01-02 07:22:31</td>\n",
       "      <td>w6</td>\n",
       "      <td>nRq</td>\n",
       "      <td>uhEla</td>\n",
       "      <td>SAr</td>\n",
       "      <td>5lqld</td>\n",
       "      <td>0.290</td>\n",
       "      <td>4.21</td>\n",
       "    </tr>\n",
       "  </tbody>\n",
       "</table>\n",
       "</div>"
      ],
      "text/plain": [
       "    transaction           timestamp chain shop customer seller product  \\\n",
       "7        818445 2016-01-02 07:22:31    w6  nRq    uhEla    SAr   QlLha   \n",
       "8        818445 2016-01-02 07:22:31    w6  nRq    uhEla    SAr   xDTzd   \n",
       "9        818445 2016-01-02 07:22:31    w6  nRq    uhEla    SAr   45p35   \n",
       "10       818445 2016-01-02 07:22:31    w6  nRq    uhEla    SAr   eo~UP   \n",
       "11       818445 2016-01-02 07:22:31    w6  nRq    uhEla    SAr   5lqld   \n",
       "\n",
       "    quantity  billing  \n",
       "7      0.160     3.17  \n",
       "8      0.165     3.27  \n",
       "9      1.000     2.75  \n",
       "10     0.180     3.56  \n",
       "11     0.290     4.21  "
      ]
     },
     "execution_count": 5,
     "metadata": {},
     "output_type": "execute_result"
    }
   ],
   "source": [
    "X[X['transaction'] == 818445]"
   ]
  },
  {
   "cell_type": "markdown",
   "metadata": {},
   "source": [
    "## Data size summary\n",
    "\n",
    "The X dataset contains ~2.3M rows, corresponding to ~474K unique individual transactions. There are ~8.7K unique identified customers.\n",
    "\n",
    "More precisely:"
   ]
  },
  {
   "cell_type": "code",
   "execution_count": 6,
   "metadata": {},
   "outputs": [
    {
     "data": {
      "text/plain": [
       "(2281130, 9)"
      ]
     },
     "execution_count": 6,
     "metadata": {},
     "output_type": "execute_result"
    }
   ],
   "source": [
    "X.shape"
   ]
  },
  {
   "cell_type": "code",
   "execution_count": 7,
   "metadata": {},
   "outputs": [
    {
     "data": {
      "text/plain": [
       "473772"
      ]
     },
     "execution_count": 7,
     "metadata": {},
     "output_type": "execute_result"
    }
   ],
   "source": [
    "X.transaction.nunique()"
   ]
  },
  {
   "cell_type": "code",
   "execution_count": 8,
   "metadata": {},
   "outputs": [
    {
     "data": {
      "text/plain": [
       "8723"
      ]
     },
     "execution_count": 8,
     "metadata": {},
     "output_type": "execute_result"
    }
   ],
   "source": [
    "X.customer.nunique()"
   ]
  },
  {
   "cell_type": "markdown",
   "metadata": {},
   "source": [
    "## Target dataset\n",
    "\n",
    "The dataset `y` contains, for each customer appearing in `X`, the date of the first purchase they effected after `2018-11-01` together with its total billing amount.\n",
    "\n",
    "The datatypes of its columns are as follows:"
   ]
  },
  {
   "cell_type": "code",
   "execution_count": 9,
   "metadata": {},
   "outputs": [],
   "source": [
    "dtype_y = {\n",
    "    'customer': str,\n",
    "    'billing': np.float64,\n",
    "    # 'date': date,\n",
    "}"
   ]
  },
  {
   "cell_type": "code",
   "execution_count": 10,
   "metadata": {},
   "outputs": [],
   "source": [
    "y = pd.read_csv('datasets/y.csv', dtype=dtype_y, parse_dates=['date'])"
   ]
  },
  {
   "cell_type": "markdown",
   "metadata": {},
   "source": [
    "## __Question:__ how do we go from features `X` to target `y`?\n",
    "\n",
    "__Answer:__ Standard dataframe manipulations, that is: discard most columns, group-by, aggregate `billing`, compute dates from timestamps."
   ]
  },
  {
   "cell_type": "code",
   "execution_count": 11,
   "metadata": {},
   "outputs": [],
   "source": [
    "from_X_to_y = (X[['transaction', 'timestamp', 'customer', 'billing']]\n",
    "               .groupby(['transaction', 'timestamp', 'customer'])\n",
    "               .agg('sum')\n",
    "               .reset_index())\n",
    "\n",
    "from_X_to_y['date'] = from_X_to_y['timestamp'].dt.date\n",
    "from_X_to_y.drop('timestamp', axis=1, inplace=True)"
   ]
  },
  {
   "cell_type": "markdown",
   "metadata": {},
   "source": [
    "In this way, our previous transaction number `818445` turns into:"
   ]
  },
  {
   "cell_type": "code",
   "execution_count": 12,
   "metadata": {},
   "outputs": [
    {
     "data": {
      "text/html": [
       "<div>\n",
       "<style scoped>\n",
       "    .dataframe tbody tr th:only-of-type {\n",
       "        vertical-align: middle;\n",
       "    }\n",
       "\n",
       "    .dataframe tbody tr th {\n",
       "        vertical-align: top;\n",
       "    }\n",
       "\n",
       "    .dataframe thead th {\n",
       "        text-align: right;\n",
       "    }\n",
       "</style>\n",
       "<table border=\"1\" class=\"dataframe\">\n",
       "  <thead>\n",
       "    <tr style=\"text-align: right;\">\n",
       "      <th></th>\n",
       "      <th>transaction</th>\n",
       "      <th>timestamp</th>\n",
       "      <th>chain</th>\n",
       "      <th>shop</th>\n",
       "      <th>customer</th>\n",
       "      <th>seller</th>\n",
       "      <th>product</th>\n",
       "      <th>quantity</th>\n",
       "      <th>billing</th>\n",
       "    </tr>\n",
       "  </thead>\n",
       "  <tbody>\n",
       "    <tr>\n",
       "      <th>7</th>\n",
       "      <td>818445</td>\n",
       "      <td>2016-01-02 07:22:31</td>\n",
       "      <td>w6</td>\n",
       "      <td>nRq</td>\n",
       "      <td>uhEla</td>\n",
       "      <td>SAr</td>\n",
       "      <td>QlLha</td>\n",
       "      <td>0.160</td>\n",
       "      <td>3.17</td>\n",
       "    </tr>\n",
       "    <tr>\n",
       "      <th>8</th>\n",
       "      <td>818445</td>\n",
       "      <td>2016-01-02 07:22:31</td>\n",
       "      <td>w6</td>\n",
       "      <td>nRq</td>\n",
       "      <td>uhEla</td>\n",
       "      <td>SAr</td>\n",
       "      <td>xDTzd</td>\n",
       "      <td>0.165</td>\n",
       "      <td>3.27</td>\n",
       "    </tr>\n",
       "    <tr>\n",
       "      <th>9</th>\n",
       "      <td>818445</td>\n",
       "      <td>2016-01-02 07:22:31</td>\n",
       "      <td>w6</td>\n",
       "      <td>nRq</td>\n",
       "      <td>uhEla</td>\n",
       "      <td>SAr</td>\n",
       "      <td>45p35</td>\n",
       "      <td>1.000</td>\n",
       "      <td>2.75</td>\n",
       "    </tr>\n",
       "    <tr>\n",
       "      <th>10</th>\n",
       "      <td>818445</td>\n",
       "      <td>2016-01-02 07:22:31</td>\n",
       "      <td>w6</td>\n",
       "      <td>nRq</td>\n",
       "      <td>uhEla</td>\n",
       "      <td>SAr</td>\n",
       "      <td>eo~UP</td>\n",
       "      <td>0.180</td>\n",
       "      <td>3.56</td>\n",
       "    </tr>\n",
       "    <tr>\n",
       "      <th>11</th>\n",
       "      <td>818445</td>\n",
       "      <td>2016-01-02 07:22:31</td>\n",
       "      <td>w6</td>\n",
       "      <td>nRq</td>\n",
       "      <td>uhEla</td>\n",
       "      <td>SAr</td>\n",
       "      <td>5lqld</td>\n",
       "      <td>0.290</td>\n",
       "      <td>4.21</td>\n",
       "    </tr>\n",
       "  </tbody>\n",
       "</table>\n",
       "</div>"
      ],
      "text/plain": [
       "    transaction           timestamp chain shop customer seller product  \\\n",
       "7        818445 2016-01-02 07:22:31    w6  nRq    uhEla    SAr   QlLha   \n",
       "8        818445 2016-01-02 07:22:31    w6  nRq    uhEla    SAr   xDTzd   \n",
       "9        818445 2016-01-02 07:22:31    w6  nRq    uhEla    SAr   45p35   \n",
       "10       818445 2016-01-02 07:22:31    w6  nRq    uhEla    SAr   eo~UP   \n",
       "11       818445 2016-01-02 07:22:31    w6  nRq    uhEla    SAr   5lqld   \n",
       "\n",
       "    quantity  billing  \n",
       "7      0.160     3.17  \n",
       "8      0.165     3.27  \n",
       "9      1.000     2.75  \n",
       "10     0.180     3.56  \n",
       "11     0.290     4.21  "
      ]
     },
     "execution_count": 12,
     "metadata": {},
     "output_type": "execute_result"
    }
   ],
   "source": [
    "X[X['transaction'] == 818445]"
   ]
  },
  {
   "cell_type": "code",
   "execution_count": 13,
   "metadata": {},
   "outputs": [
    {
     "data": {
      "text/html": [
       "<div>\n",
       "<style scoped>\n",
       "    .dataframe tbody tr th:only-of-type {\n",
       "        vertical-align: middle;\n",
       "    }\n",
       "\n",
       "    .dataframe tbody tr th {\n",
       "        vertical-align: top;\n",
       "    }\n",
       "\n",
       "    .dataframe thead th {\n",
       "        text-align: right;\n",
       "    }\n",
       "</style>\n",
       "<table border=\"1\" class=\"dataframe\">\n",
       "  <thead>\n",
       "    <tr style=\"text-align: right;\">\n",
       "      <th></th>\n",
       "      <th>transaction</th>\n",
       "      <th>customer</th>\n",
       "      <th>billing</th>\n",
       "      <th>date</th>\n",
       "    </tr>\n",
       "  </thead>\n",
       "  <tbody>\n",
       "    <tr>\n",
       "      <th>404677</th>\n",
       "      <td>818445</td>\n",
       "      <td>uhEla</td>\n",
       "      <td>16.96</td>\n",
       "      <td>2016-01-02</td>\n",
       "    </tr>\n",
       "  </tbody>\n",
       "</table>\n",
       "</div>"
      ],
      "text/plain": [
       "        transaction customer  billing        date\n",
       "404677       818445    uhEla    16.96  2016-01-02"
      ]
     },
     "execution_count": 13,
     "metadata": {},
     "output_type": "execute_result"
    }
   ],
   "source": [
    "from_X_to_y[from_X_to_y['transaction'] == 818445]"
   ]
  },
  {
   "cell_type": "markdown",
   "metadata": {},
   "source": [
    "# A single customer's shopping time series\n",
    "\n",
    "Let us focus on customer `'uhEla'`, who carried out transaction number `818445`. We will explore the time series of the total `billing` for each of his purchases."
   ]
  },
  {
   "cell_type": "code",
   "execution_count": 14,
   "metadata": {},
   "outputs": [],
   "source": [
    "# Drop `'transaction'`.\n",
    "from_X_to_y.drop('transaction', axis=1, inplace=True)"
   ]
  },
  {
   "cell_type": "markdown",
   "metadata": {},
   "source": [
    "Let's stay with this customer and examine the time-series of shop purchases:"
   ]
  },
  {
   "cell_type": "code",
   "execution_count": 15,
   "metadata": {},
   "outputs": [],
   "source": [
    "X_one_customer = (from_X_to_y[from_X_to_y['customer'] == 'uhEla']\n",
    "                  .sort_values('date')\n",
    "                  .drop('customer', axis=1))"
   ]
  },
  {
   "cell_type": "code",
   "execution_count": 16,
   "metadata": {},
   "outputs": [
    {
     "data": {
      "text/plain": [
       "(143, 2)"
      ]
     },
     "execution_count": 16,
     "metadata": {},
     "output_type": "execute_result"
    }
   ],
   "source": [
    "X_one_customer.shape"
   ]
  },
  {
   "cell_type": "markdown",
   "metadata": {},
   "source": [
    "We can tell that this customer has effected a total of 143 different purchases along time. Let us visualize the last 60 of them:"
   ]
  },
  {
   "cell_type": "code",
   "execution_count": 17,
   "metadata": {},
   "outputs": [
    {
     "data": {
      "image/png": "[encoded data removed]",
      "text/plain": [
       "<Figure size 1080x360 with 1 Axes>"
      ]
     },
     "metadata": {
      "needs_background": "light"
     },
     "output_type": "display_data"
    }
   ],
   "source": [
    "_ = sns.relplot(x='date', y='billing', kind='line', data=X_one_customer.tail(60), aspect=3, marker='o')"
   ]
  },
  {
   "cell_type": "markdown",
   "metadata": {},
   "source": [
    "One way to study the date for the next purchase is to look at the number of days which go by between consecutive transactions. \n",
    "\n",
    "Let us look at this feature in the case of this single customer.\n",
    "\n",
    "First, we take the date of the first and final purchases."
   ]
  },
  {
   "cell_type": "code",
   "execution_count": 18,
   "metadata": {},
   "outputs": [],
   "source": [
    "initial_date = X_one_customer.date.iloc[0]\n",
    "final_date = X_one_customer.date.iloc[-1]"
   ]
  },
  {
   "cell_type": "markdown",
   "metadata": {},
   "source": [
    "Then, we count the number of days between each purchase date and the initial date."
   ]
  },
  {
   "cell_type": "code",
   "execution_count": 19,
   "metadata": {},
   "outputs": [],
   "source": [
    "X_one_customer['date_int'] = X_one_customer['date'].apply(lambda x: (x - initial_date).days)"
   ]
  },
  {
   "cell_type": "markdown",
   "metadata": {},
   "source": [
    "Finally, compute the number of days between consecutive purchases as an integer."
   ]
  },
  {
   "cell_type": "code",
   "execution_count": 20,
   "metadata": {},
   "outputs": [],
   "source": [
    "X_one_customer['date_int_sh'] = X_one_customer['date_int'].shift(1)\n",
    "X_one_customer['date_diff'] = X_one_customer['date_int'] - X_one_customer['date_int_sh']"
   ]
  },
  {
   "cell_type": "markdown",
   "metadata": {},
   "source": [
    "Let us visualize the time series for the `'date_diff'` feature."
   ]
  },
  {
   "cell_type": "code",
   "execution_count": 21,
   "metadata": {},
   "outputs": [
    {
     "data": {
      "image/png": "[encoded data removed]",
      "text/plain": [
       "<Figure size 1080x360 with 1 Axes>"
      ]
     },
     "metadata": {
      "needs_background": "light"
     },
     "output_type": "display_data"
    }
   ],
   "source": [
    "_ = sns.relplot(x='date', y='date_diff', kind='line', data=X_one_customer.tail(60), aspect=3, marker='o')"
   ]
  },
  {
   "cell_type": "code",
   "execution_count": 22,
   "metadata": {},
   "outputs": [
    {
     "data": {
      "text/html": [
       "<div>\n",
       "<style scoped>\n",
       "    .dataframe tbody tr th:only-of-type {\n",
       "        vertical-align: middle;\n",
       "    }\n",
       "\n",
       "    .dataframe tbody tr th {\n",
       "        vertical-align: top;\n",
       "    }\n",
       "\n",
       "    .dataframe thead th {\n",
       "        text-align: right;\n",
       "    }\n",
       "</style>\n",
       "<table border=\"1\" class=\"dataframe\">\n",
       "  <thead>\n",
       "    <tr style=\"text-align: right;\">\n",
       "      <th></th>\n",
       "      <th>billing</th>\n",
       "      <th>date</th>\n",
       "      <th>date_int</th>\n",
       "      <th>date_int_sh</th>\n",
       "      <th>date_diff</th>\n",
       "    </tr>\n",
       "  </thead>\n",
       "  <tbody>\n",
       "    <tr>\n",
       "      <th>415903</th>\n",
       "      <td>13.36</td>\n",
       "      <td>2018-09-29</td>\n",
       "      <td>1001</td>\n",
       "      <td>987.0</td>\n",
       "      <td>14.0</td>\n",
       "    </tr>\n",
       "    <tr>\n",
       "      <th>416005</th>\n",
       "      <td>16.40</td>\n",
       "      <td>2018-10-06</td>\n",
       "      <td>1008</td>\n",
       "      <td>1001.0</td>\n",
       "      <td>7.0</td>\n",
       "    </tr>\n",
       "    <tr>\n",
       "      <th>416066</th>\n",
       "      <td>12.44</td>\n",
       "      <td>2018-10-13</td>\n",
       "      <td>1015</td>\n",
       "      <td>1008.0</td>\n",
       "      <td>7.0</td>\n",
       "    </tr>\n",
       "    <tr>\n",
       "      <th>416140</th>\n",
       "      <td>13.49</td>\n",
       "      <td>2018-10-20</td>\n",
       "      <td>1022</td>\n",
       "      <td>1015.0</td>\n",
       "      <td>7.0</td>\n",
       "    </tr>\n",
       "    <tr>\n",
       "      <th>416244</th>\n",
       "      <td>15.46</td>\n",
       "      <td>2018-10-27</td>\n",
       "      <td>1029</td>\n",
       "      <td>1022.0</td>\n",
       "      <td>7.0</td>\n",
       "    </tr>\n",
       "  </tbody>\n",
       "</table>\n",
       "</div>"
      ],
      "text/plain": [
       "        billing        date  date_int  date_int_sh  date_diff\n",
       "415903    13.36  2018-09-29      1001        987.0       14.0\n",
       "416005    16.40  2018-10-06      1008       1001.0        7.0\n",
       "416066    12.44  2018-10-13      1015       1008.0        7.0\n",
       "416140    13.49  2018-10-20      1022       1015.0        7.0\n",
       "416244    15.46  2018-10-27      1029       1022.0        7.0"
      ]
     },
     "execution_count": 22,
     "metadata": {},
     "output_type": "execute_result"
    }
   ],
   "source": [
    "X_one_customer.tail()"
   ]
  },
  {
   "cell_type": "markdown",
   "metadata": {},
   "source": [
    "What is the average for the `'billing'` and `'date_diff'` features?"
   ]
  },
  {
   "cell_type": "code",
   "execution_count": 23,
   "metadata": {},
   "outputs": [
    {
     "data": {
      "text/plain": [
       "billing      19.493217\n",
       "date_diff     7.246479\n",
       "dtype: float64"
      ]
     },
     "execution_count": 23,
     "metadata": {},
     "output_type": "execute_result"
    }
   ],
   "source": [
    "X_one_customer[['billing', 'date_diff']].mean()"
   ]
  },
  {
   "cell_type": "markdown",
   "metadata": {},
   "source": [
    "By adding the rounded value of date_diff to `final_date`, we would get an _average_ estimation of the following purchase date"
   ]
  },
  {
   "cell_type": "code",
   "execution_count": 24,
   "metadata": {},
   "outputs": [
    {
     "data": {
      "text/plain": [
       "datetime.date(2018, 11, 3)"
      ]
     },
     "execution_count": 24,
     "metadata": {},
     "output_type": "execute_result"
    }
   ],
   "source": [
    "final_date + dt.timedelta(7)"
   ]
  },
  {
   "cell_type": "markdown",
   "metadata": {},
   "source": [
    "As a conclusion, let's look at the real value and compare:"
   ]
  },
  {
   "cell_type": "code",
   "execution_count": 25,
   "metadata": {},
   "outputs": [
    {
     "data": {
      "text/html": [
       "<div>\n",
       "<style scoped>\n",
       "    .dataframe tbody tr th:only-of-type {\n",
       "        vertical-align: middle;\n",
       "    }\n",
       "\n",
       "    .dataframe tbody tr th {\n",
       "        vertical-align: top;\n",
       "    }\n",
       "\n",
       "    .dataframe thead th {\n",
       "        text-align: right;\n",
       "    }\n",
       "</style>\n",
       "<table border=\"1\" class=\"dataframe\">\n",
       "  <thead>\n",
       "    <tr style=\"text-align: right;\">\n",
       "      <th></th>\n",
       "      <th>billing</th>\n",
       "      <th>date</th>\n",
       "    </tr>\n",
       "  </thead>\n",
       "  <tbody>\n",
       "    <tr>\n",
       "      <th>953</th>\n",
       "      <td>15.4</td>\n",
       "      <td>2018-11-03</td>\n",
       "    </tr>\n",
       "  </tbody>\n",
       "</table>\n",
       "</div>"
      ],
      "text/plain": [
       "     billing       date\n",
       "953     15.4 2018-11-03"
      ]
     },
     "execution_count": 25,
     "metadata": {},
     "output_type": "execute_result"
    }
   ],
   "source": [
    "y_one_customer = y[y['customer'] == 'uhEla'].drop('customer', axis=1)\n",
    "y_one_customer"
   ]
  },
  {
   "cell_type": "markdown",
   "metadata": {},
   "source": [
    "# Fitting of a dummy model"
   ]
  },
  {
   "cell_type": "markdown",
   "metadata": {},
   "source": [
    "In the end, given one customer, we have to predict a date and a billing.\n",
    "\n",
    "A dummy model is a simple way to establish a baseline for more sophisticated models to improve upon. It always predicts the average of the values which are to be regressed (or the most frequent class if we are classifying).\n",
    "\n",
    "By repeating the above procedure for each single customer in the dataset, we get our targets."
   ]
  },
  {
   "cell_type": "code",
   "execution_count": 26,
   "metadata": {},
   "outputs": [],
   "source": [
    "def predict(X):\n",
    "    # Let us extract a time-series for each customer.\n",
    "    from_X_to_y = (X[['transaction', 'timestamp', 'customer', 'billing']]\n",
    "                   .groupby(['transaction', 'timestamp', 'customer'])\n",
    "                   .agg('sum')\n",
    "                   .reset_index())\n",
    "    \n",
    "    # Extract dates from timestamps.\n",
    "    from_X_to_y['date'] = from_X_to_y['timestamp'].dt.date\n",
    "    \n",
    "    # Drop unneeded columns.\n",
    "    from_X_to_y.drop(['timestamp', 'transaction'], axis=1, inplace=True)\n",
    "    \n",
    "    # We'll put each answer as a dictionary in this list.\n",
    "    answers = list()\n",
    "    \n",
    "    # Iterate over customers.\n",
    "    for customer in X.customer.unique():\n",
    "        # Keep only data related to this customer\n",
    "        X_one_customer = (from_X_to_y[from_X_to_y['customer'] == customer]\n",
    "                          .sort_values('date')\n",
    "                          .drop('customer', axis=1))\n",
    "        \n",
    "        # Work out initial and final purchase dates.\n",
    "        start_date = X_one_customer.date.iloc[0]\n",
    "        end_date = X_one_customer.date.iloc[-1]\n",
    "        \n",
    "        # Count number of days from initial date for each purchase date.\n",
    "        X_one_customer['date_int'] = X_one_customer['date'].apply(lambda x: (x - start_date).days)\n",
    "        \n",
    "        # Count the number of days elapsed between consecutive purchases.\n",
    "        X_one_customer['date_int_sh'] = X_one_customer['date_int'].shift(1)\n",
    "        X_one_customer['date_diff'] = X_one_customer['date_int'] - X_one_customer['date_int_sh']\n",
    "        \n",
    "        # Compute the average of billings.\n",
    "        billing_pred = X_one_customer.billing.mean()\n",
    "        \n",
    "        # Compute the average of date_diff and round.\n",
    "        # Then, if the predicted date is below 2018-11-02, predict 2018-11-02.\n",
    "        date_pred = pd.to_datetime(\n",
    "            max(end_date + dt.timedelta(days=round(X_one_customer.date_diff.mean())),\n",
    "                dt.date(2018, 11, 2))\n",
    "        )\n",
    "        \n",
    "        # Append computed answer to the list of answers\n",
    "        answers.append({\n",
    "            'customer': customer,\n",
    "            'billing': billing_pred,\n",
    "            'date': date_pred\n",
    "        })\n",
    "    \n",
    "    # After computing the prediction for all customers, \n",
    "    # return the list of dictionaries as a dataframe.\n",
    "    return pd.DataFrame(answers)"
   ]
  },
  {
   "cell_type": "markdown",
   "metadata": {},
   "source": [
    "If we were to train the whole dataset on this simple, dummy model, which computes nothing more than a couple of means, it would take us some time."
   ]
  },
  {
   "cell_type": "code",
   "execution_count": 27,
   "metadata": {},
   "outputs": [
    {
     "name": "stdout",
     "output_type": "stream",
     "text": [
      "CPU times: user 4min 22s, sys: 206 ms, total: 4min 23s\n",
      "Wall time: 4min 22s\n"
     ]
    }
   ],
   "source": [
    "%%time\n",
    "yhat = predict(X)"
   ]
  },
  {
   "cell_type": "markdown",
   "metadata": {},
   "source": [
    "This should discourage any brute-force attempts: there is a **lot** of training data available."
   ]
  },
  {
   "cell_type": "markdown",
   "metadata": {},
   "source": [
    "A `score` method has been provided for the sake of being able to compute validations."
   ]
  },
  {
   "cell_type": "code",
   "execution_count": 28,
   "metadata": {},
   "outputs": [
    {
     "data": {
      "text/plain": [
       "0.044136191677175286"
      ]
     },
     "execution_count": 28,
     "metadata": {},
     "output_type": "execute_result"
    }
   ],
   "source": [
    "from src.validations import score\n",
    "\n",
    "score(y, yhat)"
   ]
  },
  {
   "cell_type": "markdown",
   "metadata": {},
   "source": [
    "The performance of such a _dummy_ model is very poor, but it should already serve as a baseline for comparing your first models."
   ]
  },
  {
   "cell_type": "markdown",
   "metadata": {},
   "source": [
    "# Fitting a model on the validation set\n",
    "\n",
    "The validation data set is of the same nature as `X`."
   ]
  },
  {
   "cell_type": "code",
   "execution_count": 29,
   "metadata": {},
   "outputs": [],
   "source": [
    "X_val = pd.read_csv('datasets/X_val.csv', dtype=dtype_X, parse_dates=['timestamp'])"
   ]
  },
  {
   "cell_type": "markdown",
   "metadata": {},
   "source": [
    "The job is to apply the `predict` method to this dataset:"
   ]
  },
  {
   "cell_type": "code",
   "execution_count": 30,
   "metadata": {},
   "outputs": [
    {
     "name": "stdout",
     "output_type": "stream",
     "text": [
      "CPU times: user 8.47 s, sys: 8.02 ms, total: 8.48 s\n",
      "Wall time: 8.33 s\n"
     ]
    }
   ],
   "source": [
    "%%time\n",
    "y_pred = predict(X_val)"
   ]
  },
  {
   "cell_type": "markdown",
   "metadata": {},
   "source": [
    "## Submitting our answer to the live tracking system\n",
    "\n",
    "Gerardo Parreño has kindly made a method available for submitting data. Assuming that your team metadata and `token` have been stored in the [src/config.ini](src/config.ini) file, then making a submission is as simple as executing:"
   ]
  },
  {
   "cell_type": "code",
   "execution_count": null,
   "metadata": {},
   "outputs": [],
   "source": [
    "from src.client import submit_predictions\n",
    "\n",
    "submit_predictions('src/config.ini', y_pred)"
   ]
  },
  {
   "cell_type": "markdown",
   "metadata": {},
   "source": [
    "A successful submission should return a `201` http response status.\n",
    "\n",
    "For the record, this submission would achieve an accuracy of `0.046218`."
   ]
  }
 ],
 "metadata": {
  "kernelspec": {
   "display_name": "Python 3",
   "language": "python",
   "name": "python3"
  },
  "language_info": {
   "codemirror_mode": {
    "name": "ipython",
    "version": 3
   },
   "file_extension": ".py",
   "mimetype": "text/x-python",
   "name": "python",
   "nbconvert_exporter": "python",
   "pygments_lexer": "ipython3",
   "version": "3.7.10"
  }
 },
 "nbformat": 4,
 "nbformat_minor": 2
}
